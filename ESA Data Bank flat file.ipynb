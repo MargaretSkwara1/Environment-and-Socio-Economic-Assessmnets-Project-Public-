{
 "cells": [
  {
   "cell_type": "code",
   "execution_count": 369,
   "metadata": {},
   "outputs": [],
   "source": [
    "import pandas as pd\n",
    "import numpy as np\n",
    "import time\n",
    "import datetime\n",
    "import json\n",
    "import os\n",
    "import requests\n",
    "from bs4 import BeautifulSoup as bs\n",
    "import re\n",
    "from urllib.parse import unquote\n",
    "import PyPDF2 as p2\n",
    "from IPython.core.interactiveshell import InteractiveShell\n",
    "InteractiveShell.ast_node_interactivity = \"all\""
   ]
  },
  {
   "cell_type": "markdown",
   "metadata": {},
   "source": [
    "### read csv master file with Project Name and link to ESA folder(s) that contain the ESA files\n",
    "### 85 rows, because some projects have multiple folder (which contain the ESA documents)  "
   ]
  },
  {
   "cell_type": "code",
   "execution_count": 370,
   "metadata": {
    "scrolled": false
   },
   "outputs": [
    {
     "name": "stdout",
     "output_type": "stream",
     "text": [
      "shape of csv: (85, 7)\n",
      "numer of unique project: 37\n"
     ]
    }
   ],
   "source": [
    "path_to_master_file = 'F:/Environmental Baseline Data/Version 4 - Final/Support files/list_of_Section_52_projects.csv'\n",
    "master = pd.read_csv(path_to_master_file, encoding='ISO-8859-1')\n",
    "master['folder_link'] = master['link to folder with ESA'].str.replace('/View/', '/LoadResult/')\n",
    "print('shape of csv:', master.shape)\n",
    "print('numer of unique project:', master['Application title'].nunique())"
   ]
  },
  {
   "cell_type": "markdown",
   "metadata": {},
   "source": [
    "### get all RegDocs files"
   ]
  },
  {
   "cell_type": "code",
   "execution_count": 371,
   "metadata": {},
   "outputs": [
    {
     "name": "stdout",
     "output_type": "stream",
     "text": [
      "Wall time: 20.5 s\n"
     ]
    },
    {
     "data": {
      "text/plain": [
       "Index(['file_name', 'hrefs', 'application_name', 'esa_folder_link'], dtype='object')"
      ]
     },
     "execution_count": 371,
     "metadata": {},
     "output_type": "execute_result"
    }
   ],
   "source": [
    "%%time\n",
    "\n",
    "all_esa = []\n",
    "list_applications = master['Application title'].tolist()\n",
    "list_downloads = master['folder_link'] \n",
    "\n",
    "for a, b in zip(list_downloads, list_applications):\n",
    "    cookies = {'RDI-NumberOfRecords': '200'}\n",
    "    r = requests.get(a, cookies = cookies)\n",
    "    soup = bs(r.text, 'lxml')\n",
    "    tds = soup.find_all('td', {'class' : 'nopadding break-anywhere'})\n",
    "    file_name = [x.text for x in soup.find_all('a', {'class' : 'row-icon'})]\n",
    "    hrefs = [a['href'] for a in soup.find_all('a', {'class' : 'row-icon'})]\n",
    "    df = pd.DataFrame({'file_name' : file_name, 'hrefs' : hrefs, 'application_name' : b, 'esa_folder_link' : a})\n",
    "    all_esa.append(df)\n",
    "\n",
    "df_esa = pd.concat(all_esa, axis = 0)\n",
    "df_esa.shape\n",
    "df_esa.columns\n",
    "# df_esa.head()"
   ]
  },
  {
   "cell_type": "code",
   "execution_count": 373,
   "metadata": {
    "scrolled": false
   },
   "outputs": [],
   "source": [
    "# create download links by going to each folder and identify the ESA files (using regular expressions) \n",
    "df_esa = pd.concat(all_esa, axis = 0)\n",
    "regex_esa = 'COVER|NV|EPP|EIS|ESA|nvironment|Horn|Vantage|7212_App|ocio|EIA|App 13|V11|V14|V15|V16|V17|V18|V19|V20|V21|V22|V23|V24|V25|A1X1|A1C3|A3S1|A3S2|Goldboro'\n",
    "df_esa = df_esa[df_esa['file_name'].str.contains(regex_esa)]\n",
    "df_esa['DocumentID'] = df_esa['file_name'].str.extract('([a-zA-Z]\\d[a-zA-Z]\\d[a-zA-Z]\\d)')\n",
    "df_esa['DataID'] = df_esa['hrefs'].str.replace('/REGDOCS/File/Download/', '')\n",
    "df_esa['esa_download_link'] = df_esa['hrefs'].str.replace('/REGDOCS/', 'https://apps.cer-rec.gc.ca/REGDOCS/')\n",
    "df_esa = df_esa.drop('hrefs', axis = 1)\n",
    "df_esa['DataID_pdf'] = df_esa['DataID'] + '.pdf'\n",
    "\n",
    "# remove receipts\n",
    "df_esa = df_esa[~df_esa['file_name'].str.contains('eceipt')]"
   ]
  },
  {
   "cell_type": "code",
   "execution_count": 374,
   "metadata": {},
   "outputs": [],
   "source": [
    "#delete these files\n",
    "# B-1S  - Section 12 - Environmental and Socio-Economic Matters  - A2F4K6\n",
    "# B-1T - Horn_River_Komie_North_Overview_Map_2011-09-29  - A2F4K7 \n",
    "# B-1-g -- A0U3G2 - Environmental and Socio-Economic Assessment - Volume 2 of 2 (Paper Only)\n",
    "# B1-15 - 12.0 Environmental and Socio-Economic - A2A6Q1\n",
    "\n"
   ]
  },
  {
   "cell_type": "code",
   "execution_count": 375,
   "metadata": {
    "scrolled": false
   },
   "outputs": [],
   "source": [
    "# %%time\n",
    "# # downloads all files\n",
    "# # ****************************************************************** 1 hour execution \n",
    "\n",
    "# download_link = df_esa['esa_download_link'].tolist()\n",
    "# DataID = df_esa['DataID'].tolist()\n",
    "# save_folder = 'F:/Environmental Baseline Data/Version 4 - Final/PDF/'\n",
    "\n",
    "# for x, y in zip(download_link, DataID):\n",
    "#     try:\n",
    "#         download_url = 'http://docs2.cer-rec.gc.ca/ll-eng/llisapi.dll?func=ll&objId=' + y + '&objaction=download&viewType=1'\n",
    "#         r = requests.get(download_url)\n",
    "#         full_name = os.path.join(save_folder, (y +'.pdf')) \n",
    "#         with open(full_name, 'wb') as file:\n",
    "#             file.write(r.content) \n",
    "#     except:\n",
    "#         print(x, y)\n"
   ]
  },
  {
   "cell_type": "code",
   "execution_count": 376,
   "metadata": {},
   "outputs": [],
   "source": [
    "# download all files per hearing\n",
    "# *******************************************************************\n",
    "# per_project = df_esa[df_esa['application_name'] == '2010-02-19 - Application for the Horn River Project (GH-2-2010)']\n",
    "\n",
    "# download_link = per_project['esa_download_link'].tolist()\n",
    "# DataID = per_project['DataID'].tolist()\n",
    "# save_folder = 'F:/Environmental Baseline Data/Version 4 - Final/PDF/'\n",
    "# len(download_link)\n",
    "# len(DataID)\n",
    "\n",
    "# for x, y in zip(download_link, DataID):\n",
    "#     download_url = 'http://docs2.cer-rec.gc.ca/ll-eng/llisapi.dll?func=ll&objId=' + y + '&objaction=download&viewType=1'\n",
    "#     r = requests.get(download_url)\n",
    "#     full_name = os.path.join(save_folder, (y +'.pdf')) \n",
    "#     with open(full_name, 'wb') as file:\n",
    "#         file.write(r.content) "
   ]
  },
  {
   "cell_type": "markdown",
   "metadata": {},
   "source": [
    "## load GIS info and merge"
   ]
  },
  {
   "cell_type": "code",
   "execution_count": 378,
   "metadata": {
    "scrolled": false
   },
   "outputs": [
    {
     "data": {
      "text/plain": [
       "Index(['Section', 'application_name', 'Application filing date',\n",
       "       'link to folder with ESA', 'Hearing order', 'Folder link',\n",
       "       'Company Name', 'Consultant Name', 'Status in GIS', 'Column1',\n",
       "       'RTS English Title = Project name', 'Regulatory Instruments Issued',\n",
       "       'Pipeline Named in GIS', 'Application title short',\n",
       "       'Link to Application', 'Link to Decision', 'Location'],\n",
       "      dtype='object')"
      ]
     },
     "execution_count": 378,
     "metadata": {},
     "output_type": "execute_result"
    }
   ],
   "source": [
    "gis_df = pd.read_excel('F:/Environmental Baseline Data/Version 4 - Final/Indices/Index 1 - List of Major Projects with ESAs.xlsx')\n",
    "gis_df.columns\n",
    "df_esa_with_gis = df_esa.merge(gis_df, on = 'application_name', how = 'left')"
   ]
  },
  {
   "cell_type": "markdown",
   "metadata": {},
   "source": [
    "## load component info and merge"
   ]
  },
  {
   "cell_type": "code",
   "execution_count": 380,
   "metadata": {},
   "outputs": [
    {
     "data": {
      "text/plain": [
       "Index(['Application title short', 'Component', 'Component PDF Name',\n",
       "       'file_name', 'Component Index'],\n",
       "      dtype='object')"
      ]
     },
     "execution_count": 380,
     "metadata": {},
     "output_type": "execute_result"
    }
   ],
   "source": [
    "esa_component_path = 'F:/Environmental Baseline Data/Version 4 - Final/Support files/Appendices mapped with files per Project.xlsx'\n",
    "esa_component_names = pd.read_excel(esa_component_path, sheet_name = 'new')\n",
    "\n",
    "esa_component_names.columns"
   ]
  },
  {
   "cell_type": "code",
   "execution_count": 381,
   "metadata": {},
   "outputs": [
    {
     "data": {
      "text/html": [
       "<div>\n",
       "<style scoped>\n",
       "    .dataframe tbody tr th:only-of-type {\n",
       "        vertical-align: middle;\n",
       "    }\n",
       "\n",
       "    .dataframe tbody tr th {\n",
       "        vertical-align: top;\n",
       "    }\n",
       "\n",
       "    .dataframe thead th {\n",
       "        text-align: right;\n",
       "    }\n",
       "</style>\n",
       "<table border=\"1\" class=\"dataframe\">\n",
       "  <thead>\n",
       "    <tr style=\"text-align: right;\">\n",
       "      <th></th>\n",
       "      <th>file_name</th>\n",
       "      <th>application_name</th>\n",
       "      <th>esa_folder_link</th>\n",
       "      <th>DocumentID</th>\n",
       "      <th>DataID</th>\n",
       "      <th>esa_download_link</th>\n",
       "      <th>DataID_pdf</th>\n",
       "      <th>Section</th>\n",
       "      <th>Application filing date</th>\n",
       "      <th>link to folder with ESA</th>\n",
       "      <th>...</th>\n",
       "      <th>Column1</th>\n",
       "      <th>RTS English Title = Project name</th>\n",
       "      <th>Regulatory Instruments Issued</th>\n",
       "      <th>Pipeline Named in GIS</th>\n",
       "      <th>Application title short</th>\n",
       "      <th>Link to Application</th>\n",
       "      <th>Link to Decision</th>\n",
       "      <th>Component</th>\n",
       "      <th>Component PDF Name</th>\n",
       "      <th>Component Index</th>\n",
       "    </tr>\n",
       "  </thead>\n",
       "  <tbody>\n",
       "    <tr>\n",
       "      <th>0</th>\n",
       "      <td>A0H8C0 - 13.0 EIA - Section 13.1 to 13.6</td>\n",
       "      <td>2003-03-17 Application to Construct and Operat...</td>\n",
       "      <td>https://apps.cer-rec.gc.ca/REGDOCS/Item/LoadRe...</td>\n",
       "      <td>A0H8C0</td>\n",
       "      <td>268706</td>\n",
       "      <td>https://apps.cer-rec.gc.ca/REGDOCS/File/Downlo...</td>\n",
       "      <td>268706.pdf</td>\n",
       "      <td>Large Projects (over 40 km)</td>\n",
       "      <td>2003-03-17</td>\n",
       "      <td>https://apps.cer-rec.gc.ca/REGDOCS/Item/View/2...</td>\n",
       "      <td>...</td>\n",
       "      <td>Operating</td>\n",
       "      <td>Ekwan Pipeline Application/Horn River Pipeline...</td>\n",
       "      <td>GC-108</td>\n",
       "      <td>Ekwan Pipeline</td>\n",
       "      <td>Application to Construct and Operate Ekwan Pip...</td>\n",
       "      <td>https://apps.cer-rec.gc.ca/REGDOCS/Item/View/2...</td>\n",
       "      <td>https://apps.cer-rec.gc.ca/REGDOCS/Item/View/2...</td>\n",
       "      <td>ESA</td>\n",
       "      <td>Section 13.1: Introduction, Section 13.1: Proj...</td>\n",
       "      <td>1.0</td>\n",
       "    </tr>\n",
       "    <tr>\n",
       "      <th>1</th>\n",
       "      <td>A0H8C1 - 13.0 EIA - Section 13.7 Wildlife Part 1</td>\n",
       "      <td>2003-03-17 Application to Construct and Operat...</td>\n",
       "      <td>https://apps.cer-rec.gc.ca/REGDOCS/Item/LoadRe...</td>\n",
       "      <td>A0H8C1</td>\n",
       "      <td>268709</td>\n",
       "      <td>https://apps.cer-rec.gc.ca/REGDOCS/File/Downlo...</td>\n",
       "      <td>268709.pdf</td>\n",
       "      <td>Large Projects (over 40 km)</td>\n",
       "      <td>2003-03-17</td>\n",
       "      <td>https://apps.cer-rec.gc.ca/REGDOCS/Item/View/2...</td>\n",
       "      <td>...</td>\n",
       "      <td>Operating</td>\n",
       "      <td>Ekwan Pipeline Application/Horn River Pipeline...</td>\n",
       "      <td>GC-108</td>\n",
       "      <td>Ekwan Pipeline</td>\n",
       "      <td>Application to Construct and Operate Ekwan Pip...</td>\n",
       "      <td>https://apps.cer-rec.gc.ca/REGDOCS/Item/View/2...</td>\n",
       "      <td>https://apps.cer-rec.gc.ca/REGDOCS/Item/View/2...</td>\n",
       "      <td>ESA</td>\n",
       "      <td>Section 13.7: Wildlife and Wildlife Habitat</td>\n",
       "      <td>2.0</td>\n",
       "    </tr>\n",
       "  </tbody>\n",
       "</table>\n",
       "<p>2 rows × 25 columns</p>\n",
       "</div>"
      ],
      "text/plain": [
       "                                          file_name  \\\n",
       "0         A0H8C0 - 13.0 EIA - Section 13.1 to 13.6    \n",
       "1  A0H8C1 - 13.0 EIA - Section 13.7 Wildlife Part 1   \n",
       "\n",
       "                                    application_name  \\\n",
       "0  2003-03-17 Application to Construct and Operat...   \n",
       "1  2003-03-17 Application to Construct and Operat...   \n",
       "\n",
       "                                     esa_folder_link DocumentID  DataID  \\\n",
       "0  https://apps.cer-rec.gc.ca/REGDOCS/Item/LoadRe...     A0H8C0  268706   \n",
       "1  https://apps.cer-rec.gc.ca/REGDOCS/Item/LoadRe...     A0H8C1  268709   \n",
       "\n",
       "                                   esa_download_link  DataID_pdf  \\\n",
       "0  https://apps.cer-rec.gc.ca/REGDOCS/File/Downlo...  268706.pdf   \n",
       "1  https://apps.cer-rec.gc.ca/REGDOCS/File/Downlo...  268709.pdf   \n",
       "\n",
       "                       Section Application filing date  \\\n",
       "0  Large Projects (over 40 km)              2003-03-17   \n",
       "1  Large Projects (over 40 km)              2003-03-17   \n",
       "\n",
       "                             link to folder with ESA  ...    Column1  \\\n",
       "0  https://apps.cer-rec.gc.ca/REGDOCS/Item/View/2...  ...  Operating   \n",
       "1  https://apps.cer-rec.gc.ca/REGDOCS/Item/View/2...  ...  Operating   \n",
       "\n",
       "                    RTS English Title = Project name  \\\n",
       "0  Ekwan Pipeline Application/Horn River Pipeline...   \n",
       "1  Ekwan Pipeline Application/Horn River Pipeline...   \n",
       "\n",
       "  Regulatory Instruments Issued Pipeline Named in GIS  \\\n",
       "0                        GC-108        Ekwan Pipeline   \n",
       "1                        GC-108        Ekwan Pipeline   \n",
       "\n",
       "                             Application title short  \\\n",
       "0  Application to Construct and Operate Ekwan Pip...   \n",
       "1  Application to Construct and Operate Ekwan Pip...   \n",
       "\n",
       "                                 Link to Application  \\\n",
       "0  https://apps.cer-rec.gc.ca/REGDOCS/Item/View/2...   \n",
       "1  https://apps.cer-rec.gc.ca/REGDOCS/Item/View/2...   \n",
       "\n",
       "                                    Link to Decision Component  \\\n",
       "0  https://apps.cer-rec.gc.ca/REGDOCS/Item/View/2...       ESA   \n",
       "1  https://apps.cer-rec.gc.ca/REGDOCS/Item/View/2...       ESA   \n",
       "\n",
       "                                  Component PDF Name Component Index  \n",
       "0  Section 13.1: Introduction, Section 13.1: Proj...             1.0  \n",
       "1        Section 13.7: Wildlife and Wildlife Habitat             2.0  \n",
       "\n",
       "[2 rows x 25 columns]"
      ]
     },
     "execution_count": 381,
     "metadata": {},
     "output_type": "execute_result"
    },
    {
     "data": {
      "text/plain": [
       "(1905, 25)"
      ]
     },
     "execution_count": 381,
     "metadata": {},
     "output_type": "execute_result"
    }
   ],
   "source": [
    "#load component and merge \n",
    "\n",
    "df_esa_with_gis_components = df_esa_with_gis.merge(esa_component_names, on = 'file_name', how = 'left')\n",
    "df_esa_with_gis_components = df_esa_with_gis_components.drop('Application title short_y', axis = 1)\n",
    "df_esa_with_gis_components = df_esa_with_gis_components.rename(columns = {'Application title short_x' : 'Application title short'})\n",
    "df_esa_with_gis_components = df_esa_with_gis_components.drop('Location', axis = 1)\n",
    "df_esa_with_gis_components.head(2)\n",
    "df_esa_with_gis_components.shape\n",
    "# df_esa_with_gis_components.columns\n",
    "# print(df_esa_with_gis_components['Application title short'].unique())\n",
    "# df_esa_with_gis_components.tail(3)\n",
    "# df_esa_with_gis_components.to_csv('df_esa_with_gis_components.csv')\n",
    "# test = df_esa_with_gis_components[df_esa_with_gis_components['Application title short'] == 'Application for Trans Mountain Expansion Project']\n",
    "# len(test)"
   ]
  },
  {
   "cell_type": "markdown",
   "metadata": {},
   "source": [
    "## load short_names and merge"
   ]
  },
  {
   "cell_type": "code",
   "execution_count": 382,
   "metadata": {},
   "outputs": [
    {
     "data": {
      "text/plain": [
       "(1905, 29)"
      ]
     },
     "execution_count": 382,
     "metadata": {},
     "output_type": "execute_result"
    },
    {
     "data": {
      "text/plain": [
       "Index(['file_name', 'application_name', 'esa_folder_link', 'DocumentID',\n",
       "       'DataID', 'esa_download_link', 'DataID_pdf', 'Section',\n",
       "       'Application filing date', 'link to folder with ESA', 'Hearing order',\n",
       "       'Folder link', 'Company Name', 'Consultant Name', 'Status in GIS',\n",
       "       'Column1', 'RTS English Title = Project name',\n",
       "       'Regulatory Instruments Issued', 'Pipeline Named in GIS',\n",
       "       'Application title short', 'Link to Application', 'Link to Decision',\n",
       "       'Component', 'Component PDF Name', 'Component Index', 'short_name',\n",
       "       'Location', 'Commodity', 'Download folder name'],\n",
       "      dtype='object')"
      ]
     },
     "execution_count": 382,
     "metadata": {},
     "output_type": "execute_result"
    },
    {
     "data": {
      "text/plain": [
       "538"
      ]
     },
     "execution_count": 382,
     "metadata": {},
     "output_type": "execute_result"
    }
   ],
   "source": [
    "short_names = pd.read_csv('F:/Environmental Baseline Data/Version 4 - Final/Support files/short_names_update.csv')\n",
    "# short_names.head()\n",
    "df_esa_with_gis_components_short_names = df_esa_with_gis_components.merge(short_names, on = 'application_name', how = 'left')\n",
    "df_esa_with_gis_components_short_names.shape\n",
    "df_esa_with_gis_components_short_names.columns\n",
    "\n",
    "test = df_esa_with_gis_components_short_names[df_esa_with_gis_components_short_names['Application title short'] == 'Application for Trans Mountain Expansion Project']\n",
    "len(test)"
   ]
  },
  {
   "cell_type": "markdown",
   "metadata": {},
   "source": [
    "## Load table title and merge with regdocs metadata"
   ]
  },
  {
   "cell_type": "code",
   "execution_count": 383,
   "metadata": {},
   "outputs": [
    {
     "data": {
      "text/plain": [
       "1900"
      ]
     },
     "execution_count": 383,
     "metadata": {},
     "output_type": "execute_result"
    }
   ],
   "source": [
    "#this section loads text files that contain table titles\n",
    "json_path = 'F:/Environmental Baseline Data/Version 4 - Final/CSV_final_JSON'\n",
    "\n",
    "path = json_path\n",
    "paths = os.listdir(path)\n",
    "all_paths = [path +  '/' + str(x) for x in paths]\n",
    "len(all_paths)\n",
    "\n",
    "df_ = pd.DataFrame()\n",
    "\n",
    "for path in all_paths:\n",
    "    #load json file; save dictionary in variable d\n",
    "    with open(path) as f: \n",
    "        d = json.load(f)\n",
    "    #ignore dictionary of empty\n",
    "    if not d:\n",
    "        continue\n",
    "    else:\n",
    "        my_df = pd.concat({k: pd.Series(v) for k, v in d.items()})\n",
    "        frames = [df_,my_df]\n",
    "        df_ = pd.concat(frames)\n",
    "        \n",
    "#save a copy\n",
    "df_tmp = df_\n",
    "#arrange columns and indices\n",
    "df_.reset_index(level=0, inplace=True)\n",
    "df_ = df_.rename(columns={'index': 'file_page_table', 0:'table_name'})\n",
    "\n",
    "#remove rows where title and filename are the same\n",
    "for index, row in df_.iterrows():\n",
    "    lst = row['table_name']\n",
    "    lst_item2 = lst[1].replace('.csv','')\n",
    "    lst_item3 = lst[2]\n",
    "    if lst_item2 == lst_item3:\n",
    "        df_.drop(index , inplace=True)"
   ]
  },
  {
   "cell_type": "code",
   "execution_count": 384,
   "metadata": {},
   "outputs": [
    {
     "name": "stdout",
     "output_type": "stream",
     "text": [
      "Wall time: 1.65 s\n"
     ]
    },
    {
     "data": {
      "text/html": [
       "<div>\n",
       "<style scoped>\n",
       "    .dataframe tbody tr th:only-of-type {\n",
       "        vertical-align: middle;\n",
       "    }\n",
       "\n",
       "    .dataframe tbody tr th {\n",
       "        vertical-align: top;\n",
       "    }\n",
       "\n",
       "    .dataframe thead th {\n",
       "        text-align: right;\n",
       "    }\n",
       "</style>\n",
       "<table border=\"1\" class=\"dataframe\">\n",
       "  <thead>\n",
       "    <tr style=\"text-align: right;\">\n",
       "      <th></th>\n",
       "      <th>table_name_short</th>\n",
       "      <th>csv_name</th>\n",
       "      <th>DataID</th>\n",
       "      <th>Page Number</th>\n",
       "      <th>Table Number</th>\n",
       "    </tr>\n",
       "  </thead>\n",
       "  <tbody>\n",
       "    <tr>\n",
       "      <th>0</th>\n",
       "      <td>Table 1 Hydrometric Data From Discharge Statio...</td>\n",
       "      <td>1059614_8_1.csv</td>\n",
       "      <td>1059614</td>\n",
       "      <td>8</td>\n",
       "      <td>1</td>\n",
       "    </tr>\n",
       "    <tr>\n",
       "      <th>1</th>\n",
       "      <td>Table 2 Fish Species That May Occur In The Upp...</td>\n",
       "      <td>1059614_9_1.csv</td>\n",
       "      <td>1059614</td>\n",
       "      <td>9</td>\n",
       "      <td>1</td>\n",
       "    </tr>\n",
       "    <tr>\n",
       "      <th>2</th>\n",
       "      <td>Table 3 Summary Of Aquatics Field Work And Abo...</td>\n",
       "      <td>1059614_14_1.csv</td>\n",
       "      <td>1059614</td>\n",
       "      <td>14</td>\n",
       "      <td>1</td>\n",
       "    </tr>\n",
       "    <tr>\n",
       "      <th>3</th>\n",
       "      <td>Table 4 Summary Of Watercourse Crossings Along...</td>\n",
       "      <td>1059614_17_1.csv</td>\n",
       "      <td>1059614</td>\n",
       "      <td>17</td>\n",
       "      <td>1</td>\n",
       "    </tr>\n",
       "    <tr>\n",
       "      <th>4</th>\n",
       "      <td>Table 4 Summary Of Watercourse Crossings Along...</td>\n",
       "      <td>1059614_18_1.csv</td>\n",
       "      <td>1059614</td>\n",
       "      <td>18</td>\n",
       "      <td>1</td>\n",
       "    </tr>\n",
       "  </tbody>\n",
       "</table>\n",
       "</div>"
      ],
      "text/plain": [
       "                                    table_name_short          csv_name  \\\n",
       "0  Table 1 Hydrometric Data From Discharge Statio...   1059614_8_1.csv   \n",
       "1  Table 2 Fish Species That May Occur In The Upp...   1059614_9_1.csv   \n",
       "2  Table 3 Summary Of Aquatics Field Work And Abo...  1059614_14_1.csv   \n",
       "3  Table 4 Summary Of Watercourse Crossings Along...  1059614_17_1.csv   \n",
       "4  Table 4 Summary Of Watercourse Crossings Along...  1059614_18_1.csv   \n",
       "\n",
       "    DataID Page Number Table Number  \n",
       "0  1059614           8            1  \n",
       "1  1059614           9            1  \n",
       "2  1059614          14            1  \n",
       "3  1059614          17            1  \n",
       "4  1059614          18            1  "
      ]
     },
     "execution_count": 384,
     "metadata": {},
     "output_type": "execute_result"
    }
   ],
   "source": [
    "%%time \n",
    "#Wall time: 1.53 s\n",
    "# Some clean up of the data, thus using regular expressions\n",
    "# This section uses Janna optimized version of Veibudhs code; does not match Vibudh's code identically.\n",
    "\n",
    "df_table_titles = df_.copy()\n",
    "df_table_titles['table_name'] = df_table_titles['table_name'].astype(str)\n",
    "df_table_titles['table_name_short'] = [x[5:] for x in df_table_titles['table_name']]\n",
    "df_table_titles['csv_name'] = df_table_titles['table_name'].str.extract(r'(\\S+.csv)')\n",
    "df_table_titles['table_name_short'] = df_table_titles['table_name_short'].str.replace(\"\\d+\\_\\d+\\_\\d+.csv\\'\\,\", '')\n",
    "df_table_titles['table_name_short'] = df_table_titles['table_name_short'].str.replace('xa0', ' ')\n",
    "df_table_titles['table_name_short'] = df_table_titles['table_name_short'].str.replace('\\\\', '')\n",
    "df_table_titles['table_name_short'] = df_table_titles['table_name_short'].str.replace(\"\\(Cont.D\\).+\", '')\n",
    "df_table_titles['table_name_short'] = df_table_titles['table_name_short'].str.replace(\"(Cont'D)\", '')\n",
    "df_table_titles['table_name_short'] = df_table_titles['table_name_short'].str.replace(\"\\_\\d+\\_\\d+\", '')\n",
    "df_table_titles['table_name_short'] = df_table_titles['table_name_short'].str.replace(\"'T\", 'T')\n",
    "df_table_titles['table_name_short'] = df_table_titles['table_name_short'].str.replace(\"\\(Continued\\)\", '') \n",
    "df_table_titles['table_name_short'] = df_table_titles['table_name_short'].str.replace(\"\\_\\d']\", '')\n",
    "df_table_titles['table_name_short'] = df_table_titles['table_name_short'].str.replace('\\(\\)', '')\n",
    "df_table_titles['table_name_short'] = df_table_titles['table_name_short'].str.replace('This Table.+', '')\n",
    "df_table_titles['table_name_short'] = df_table_titles['table_name_short'].str.replace('\\'\\d{5,}_', '') \n",
    "df_table_titles['table_name_short'] = df_table_titles['table_name_short'].str.replace('\\']', '') \n",
    "df_table_titles['table_name_short'] = df_table_titles['table_name_short'].str.replace('1 Biophysical Or.+', '') \n",
    "df_table_titles['table_name_short'] = df_table_titles['table_name_short'].str.replace('\\d{1,2}.Pred.+', '')\n",
    "df_table_titles['table_name_short'] = df_table_titles['table_name_short'].str.replace('\\\"\\d+_', '')\n",
    "df_table_titles['table_name_short'] = df_table_titles['table_name_short'].str.replace('\\\"]', '')\n",
    "df_table_titles['table_name_short'] = df_table_titles['table_name_short'].str.replace('\\s\\sMitigation\\s\\s.+', '')\n",
    "df_table_titles['table_name_short'] = df_table_titles['table_name_short'].str.replace('\\s\\sKey\\s\\sMagnitude\\s\\s.+', '')\n",
    "df_table_titles['table_name_short'] = df_table_titles['table_name_short'].str.replace('Mitigation\\s1.+|Follow-Up And+| \\\n",
    "                                                                                      ..Monitoring..+|Key Magnitude.+' , '')\n",
    "\n",
    "df_table_titles['table_name_short'] = df_table_titles['table_name_short'].str.strip()\n",
    "\n",
    "# remove this b/c not a table; \n",
    "df_table_titles = df_table_titles[~df_table_titles['table_name_short'].str.contains('Provides A Summary Of ')].reset_index(drop = True)\n",
    "\n",
    "df_table_titles = df_table_titles.drop(['file_page_table', 'table_name'], axis = 1)\n",
    "df_table_titles['csv_name'] = df_table_titles['csv_name'].str.replace(\"'\", '')\n",
    "df_table_titles[['DataID', 'Page Number','Table Number']] = df_table_titles['csv_name'].str.split('_', expand = True)\n",
    "df_table_titles['Table Number'] = df_table_titles['Table Number'].str.replace('.csv', '')\n",
    "\n",
    "df_table_titles.head()   \n",
    "# df_table_titles.columns\n",
    "# df_table_titles.tail() \n",
    "# df_table_titles.to_csv('test.csv', index = False, encoding = 'utf_8_sig')"
   ]
  },
  {
   "cell_type": "code",
   "execution_count": 386,
   "metadata": {},
   "outputs": [
    {
     "data": {
      "text/plain": [
       "['F:/Environmental Baseline Data/Version 4 - Final/CSV_final/1059614_8_1.csv',\n",
       " 'F:/Environmental Baseline Data/Version 4 - Final/CSV_final/1059614_9_1.csv',\n",
       " 'F:/Environmental Baseline Data/Version 4 - Final/CSV_final/1059614_14_1.csv',\n",
       " 'F:/Environmental Baseline Data/Version 4 - Final/CSV_final/1059614_17_1.csv']"
      ]
     },
     "execution_count": 386,
     "metadata": {},
     "output_type": "execute_result"
    }
   ],
   "source": [
    "#create list of csv links\n",
    "csv_list = df_table_titles['csv_name'].tolist()\n",
    "csv_list_path = ['F:/Environmental Baseline Data/Version 4 - Final/CSV_final/' + x for x in csv_list]\n",
    "csv_list_path[0:4]"
   ]
  },
  {
   "cell_type": "code",
   "execution_count": 387,
   "metadata": {},
   "outputs": [
    {
     "name": "stdout",
     "output_type": "stream",
     "text": [
      "Wall time: 3min 10s\n"
     ]
    },
    {
     "data": {
      "text/plain": [
       "27058"
      ]
     },
     "execution_count": 387,
     "metadata": {},
     "output_type": "execute_result"
    }
   ],
   "source": [
    "%%time \n",
    "#Wall time: 3min 6s\n",
    "#go through each CSV file and extract shape, and text; save to dict_pandas\n",
    "\n",
    "exceptions_files = []\n",
    "dict_pandas = []\n",
    "\n",
    "for x in csv_list_path:\n",
    "    try:\n",
    "#         print(x)\n",
    "        df = pd.read_csv(x)\n",
    "        shape = df.shape\n",
    "        first_row = str(list(df.iloc[:,0]))\n",
    "        columns = list(df.columns)       \n",
    "        onestring = str(df.values) #df = df.astype(str)\n",
    "        dictionary = {'csv_path' : x, 'shape' : (shape), 'columns_index' : columns, 'row_index' : first_row, 'text_df_all' : onestring }\n",
    "        dict_pandas.append(dictionary) \n",
    "    except:\n",
    "        exceptions_files.append(x)\n",
    "\n",
    "len(dict_pandas)"
   ]
  },
  {
   "cell_type": "code",
   "execution_count": 388,
   "metadata": {
    "scrolled": true
   },
   "outputs": [
    {
     "name": "stdout",
     "output_type": "stream",
     "text": [
      "Wall time: 1.39 s\n"
     ]
    },
    {
     "data": {
      "text/html": [
       "<div>\n",
       "<style scoped>\n",
       "    .dataframe tbody tr th:only-of-type {\n",
       "        vertical-align: middle;\n",
       "    }\n",
       "\n",
       "    .dataframe tbody tr th {\n",
       "        vertical-align: top;\n",
       "    }\n",
       "\n",
       "    .dataframe thead th {\n",
       "        text-align: right;\n",
       "    }\n",
       "</style>\n",
       "<table border=\"1\" class=\"dataframe\">\n",
       "  <thead>\n",
       "    <tr style=\"text-align: right;\">\n",
       "      <th></th>\n",
       "      <th>csv_path</th>\n",
       "      <th>shape</th>\n",
       "      <th>columns_index</th>\n",
       "      <th>row_index</th>\n",
       "      <th>text_df_all</th>\n",
       "      <th>csv_name</th>\n",
       "      <th>contains_cids</th>\n",
       "    </tr>\n",
       "  </thead>\n",
       "  <tbody>\n",
       "    <tr>\n",
       "      <th>0</th>\n",
       "      <td>F:/Environmental Baseline Data/Version 4 - Fin...</td>\n",
       "      <td>(6, 6)</td>\n",
       "      <td>[Name, Station Name, Station No., Years Statio...</td>\n",
       "      <td>['Pine River', 'Moberly River', 'Peace River',...</td>\n",
       "      <td>[['Pine River' 'Pine River at East Pine 07FB00...</td>\n",
       "      <td>1059614_8_1.csv</td>\n",
       "      <td>no cids</td>\n",
       "    </tr>\n",
       "    <tr>\n",
       "      <th>1</th>\n",
       "      <td>F:/Environmental Baseline Data/Version 4 - Fin...</td>\n",
       "      <td>(36, 5)</td>\n",
       "      <td>[Common Name &lt;s&gt;1&lt;/s&gt;, Scientific Name&lt;s&gt;1&lt;/s&gt;...</td>\n",
       "      <td>['SPORTFISH', 'Arctic grayling', 'rainbow trou...</td>\n",
       "      <td>[['SPORTFISH' nan nan nan nan]\\n ['Arctic gray...</td>\n",
       "      <td>1059614_9_1.csv</td>\n",
       "      <td>no cids</td>\n",
       "    </tr>\n",
       "  </tbody>\n",
       "</table>\n",
       "</div>"
      ],
      "text/plain": [
       "                                            csv_path    shape  \\\n",
       "0  F:/Environmental Baseline Data/Version 4 - Fin...   (6, 6)   \n",
       "1  F:/Environmental Baseline Data/Version 4 - Fin...  (36, 5)   \n",
       "\n",
       "                                       columns_index  \\\n",
       "0  [Name, Station Name, Station No., Years Statio...   \n",
       "1  [Common Name <s>1</s>, Scientific Name<s>1</s>...   \n",
       "\n",
       "                                           row_index  \\\n",
       "0  ['Pine River', 'Moberly River', 'Peace River',...   \n",
       "1  ['SPORTFISH', 'Arctic grayling', 'rainbow trou...   \n",
       "\n",
       "                                         text_df_all         csv_name  \\\n",
       "0  [['Pine River' 'Pine River at East Pine 07FB00...  1059614_8_1.csv   \n",
       "1  [['SPORTFISH' nan nan nan nan]\\n ['Arctic gray...  1059614_9_1.csv   \n",
       "\n",
       "  contains_cids  \n",
       "0       no cids  \n",
       "1       no cids  "
      ]
     },
     "execution_count": 388,
     "metadata": {},
     "output_type": "execute_result"
    }
   ],
   "source": [
    "%%time \n",
    "#Wall time: 1.39 s\n",
    "#\n",
    "#read dictionary\n",
    "df_csv_all = pd.DataFrame(dict_pandas)\n",
    "\n",
    "df_csv_all['csv_name'] = df_csv_all['csv_path'].str.split('/').str[4]\n",
    "df_csv_all['contains_cids'] = np.where(df_csv_all['text_df_all'].str.contains(\"cid:\", case=False, na=False), 'contains cids', 'no cids')          \n",
    "df_csv_all['contains_cids'].value_counts()\n",
    "df_csv_all.head(2)\n",
    "\n",
    "# test = df_csv_all[df_csv_all['Application title short'] == 'Application for Trans Mountain Expansion Project']\n",
    "# len(test)"
   ]
  },
  {
   "cell_type": "code",
   "execution_count": 389,
   "metadata": {},
   "outputs": [
    {
     "data": {
      "text/plain": [
       "(27058, 11)"
      ]
     },
     "execution_count": 389,
     "metadata": {},
     "output_type": "execute_result"
    },
    {
     "data": {
      "text/html": [
       "<div>\n",
       "<style scoped>\n",
       "    .dataframe tbody tr th:only-of-type {\n",
       "        vertical-align: middle;\n",
       "    }\n",
       "\n",
       "    .dataframe tbody tr th {\n",
       "        vertical-align: top;\n",
       "    }\n",
       "\n",
       "    .dataframe thead th {\n",
       "        text-align: right;\n",
       "    }\n",
       "</style>\n",
       "<table border=\"1\" class=\"dataframe\">\n",
       "  <thead>\n",
       "    <tr style=\"text-align: right;\">\n",
       "      <th></th>\n",
       "      <th>Title</th>\n",
       "      <th>csv_name</th>\n",
       "      <th>DataID</th>\n",
       "      <th>Page Number</th>\n",
       "      <th>Table Number</th>\n",
       "      <th>csv_path</th>\n",
       "      <th>shape</th>\n",
       "      <th>columns_index</th>\n",
       "      <th>row_index</th>\n",
       "      <th>text_df_all</th>\n",
       "      <th>contains_cids</th>\n",
       "    </tr>\n",
       "  </thead>\n",
       "  <tbody>\n",
       "    <tr>\n",
       "      <th>0</th>\n",
       "      <td>Table 1 Hydrometric Data From Discharge Statio...</td>\n",
       "      <td>1059614_8_1.csv</td>\n",
       "      <td>1059614</td>\n",
       "      <td>8</td>\n",
       "      <td>1</td>\n",
       "      <td>F:/Environmental Baseline Data/Version 4 - Fin...</td>\n",
       "      <td>(6, 6)</td>\n",
       "      <td>[Name, Station Name, Station No., Years Statio...</td>\n",
       "      <td>['Pine River', 'Moberly River', 'Peace River',...</td>\n",
       "      <td>[['Pine River' 'Pine River at East Pine 07FB00...</td>\n",
       "      <td>no cids</td>\n",
       "    </tr>\n",
       "    <tr>\n",
       "      <th>1</th>\n",
       "      <td>Table 2 Fish Species That May Occur In The Upp...</td>\n",
       "      <td>1059614_9_1.csv</td>\n",
       "      <td>1059614</td>\n",
       "      <td>9</td>\n",
       "      <td>1</td>\n",
       "      <td>F:/Environmental Baseline Data/Version 4 - Fin...</td>\n",
       "      <td>(36, 5)</td>\n",
       "      <td>[Common Name &lt;s&gt;1&lt;/s&gt;, Scientific Name&lt;s&gt;1&lt;/s&gt;...</td>\n",
       "      <td>['SPORTFISH', 'Arctic grayling', 'rainbow trou...</td>\n",
       "      <td>[['SPORTFISH' nan nan nan nan]\\n ['Arctic gray...</td>\n",
       "      <td>no cids</td>\n",
       "    </tr>\n",
       "  </tbody>\n",
       "</table>\n",
       "</div>"
      ],
      "text/plain": [
       "                                               Title         csv_name  \\\n",
       "0  Table 1 Hydrometric Data From Discharge Statio...  1059614_8_1.csv   \n",
       "1  Table 2 Fish Species That May Occur In The Upp...  1059614_9_1.csv   \n",
       "\n",
       "    DataID Page Number Table Number  \\\n",
       "0  1059614           8            1   \n",
       "1  1059614           9            1   \n",
       "\n",
       "                                            csv_path    shape  \\\n",
       "0  F:/Environmental Baseline Data/Version 4 - Fin...   (6, 6)   \n",
       "1  F:/Environmental Baseline Data/Version 4 - Fin...  (36, 5)   \n",
       "\n",
       "                                       columns_index  \\\n",
       "0  [Name, Station Name, Station No., Years Statio...   \n",
       "1  [Common Name <s>1</s>, Scientific Name<s>1</s>...   \n",
       "\n",
       "                                           row_index  \\\n",
       "0  ['Pine River', 'Moberly River', 'Peace River',...   \n",
       "1  ['SPORTFISH', 'Arctic grayling', 'rainbow trou...   \n",
       "\n",
       "                                         text_df_all contains_cids  \n",
       "0  [['Pine River' 'Pine River at East Pine 07FB00...       no cids  \n",
       "1  [['SPORTFISH' nan nan nan nan]\\n ['Arctic gray...       no cids  "
      ]
     },
     "execution_count": 389,
     "metadata": {},
     "output_type": "execute_result"
    }
   ],
   "source": [
    "#merge the two dataframes with tables data\n",
    "tabels_csv_df = df_table_titles.merge(df_csv_all, on = 'csv_name', how = 'left')\n",
    "tabels_csv_df = tabels_csv_df.rename(columns={\"table_name_short\": \"Title\"})\n",
    "tabels_csv_df.shape\n",
    "tabels_csv_df.head(2)"
   ]
  },
  {
   "cell_type": "code",
   "execution_count": 391,
   "metadata": {},
   "outputs": [],
   "source": [
    "#merge table data with regdocs metadata\n",
    "tabels_csv_df_cer_meta = tabels_csv_df.merge(df_esa_with_gis_components_short_names, on = 'DataID', how = 'left')"
   ]
  },
  {
   "cell_type": "code",
   "execution_count": 392,
   "metadata": {},
   "outputs": [],
   "source": [
    "#create download strings \n",
    "tabels_csv_df_cer_meta['csv_download_link'] = 'http://dweb5/esa-ees/' \\\n",
    "                                + tabels_csv_df_cer_meta['Download folder name'] \\\n",
    "                                + '/' + tabels_csv_df_cer_meta['csv_name']"
   ]
  },
  {
   "cell_type": "markdown",
   "metadata": {},
   "source": [
    "### Save Index 3 (no cids)"
   ]
  },
  {
   "cell_type": "code",
   "execution_count": 393,
   "metadata": {},
   "outputs": [
    {
     "data": {
      "text/plain": [
       "(27058, 37)"
      ]
     },
     "execution_count": 393,
     "metadata": {},
     "output_type": "execute_result"
    }
   ],
   "source": [
    "# save data as Index 3 V3 CSV2 LITE.csv\n",
    "tabels_csv_df_cer_meta_no_cids = tabels_csv_df_cer_meta.drop(['text_df_all', 'columns_index', 'row_index', 'contains_cids'], axis = 1)\n",
    "tabels_csv_df_cer_meta_no_cids['Content type'] = 'Table'\n",
    "tabels_csv_df_cer_meta_no_cids.shape\n",
    "# tabels_csv_df_cer_meta_no_cids.columns\n",
    "tabels_csv_df_cer_meta_no_cids.to_csv('F:/Environmental Baseline Data/Version 4 - Final/Indices/Index 3 V3 CSV2 LITE.csv', encoding = 'utf_8_sig')"
   ]
  },
  {
   "cell_type": "markdown",
   "metadata": {},
   "source": [
    "### Save Index with cids (these csv files need minor test edits; extraction issue)"
   ]
  },
  {
   "cell_type": "code",
   "execution_count": 394,
   "metadata": {},
   "outputs": [],
   "source": [
    "# tabels_csv_df_cer_meta.columns\n",
    "# tabels_csv_df_cer_meta.shape\n",
    "# tabels_csv_df_cer_meta.to_csv('F:/Environmental Baseline Data/Version 4 - Final/Indices/Index3_full_cid_V2s.csv', encoding = 'utf_8_sig')\n",
    "\n",
    "# tabels_csv_df_cer_metas_cids_only = tabels_csv_df_cer_meta[tabels_csv_df_cer_meta['contains_cids'] == 'contains cids']\n",
    "# tabels_csv_df_cer_metas_cids_only.to_csv('F:/Environmental Baseline Data/Version 4 - Final/Indices/Index3_full_cids_only_V2.csv', encoding = 'utf_8_sig')\n",
    "# tabels_csv_df_cer_metas_cids_only.shape"
   ]
  },
  {
   "cell_type": "markdown",
   "metadata": {},
   "source": [
    "## Load Figures and merge with regdocs metadata"
   ]
  },
  {
   "cell_type": "code",
   "execution_count": 395,
   "metadata": {},
   "outputs": [
    {
     "data": {
      "text/html": [
       "<div>\n",
       "<style scoped>\n",
       "    .dataframe tbody tr th:only-of-type {\n",
       "        vertical-align: middle;\n",
       "    }\n",
       "\n",
       "    .dataframe tbody tr th {\n",
       "        vertical-align: top;\n",
       "    }\n",
       "\n",
       "    .dataframe thead th {\n",
       "        text-align: right;\n",
       "    }\n",
       "</style>\n",
       "<table border=\"1\" class=\"dataframe\">\n",
       "  <thead>\n",
       "    <tr style=\"text-align: right;\">\n",
       "      <th></th>\n",
       "      <th>Title</th>\n",
       "      <th>DataID</th>\n",
       "    </tr>\n",
       "  </thead>\n",
       "  <tbody>\n",
       "    <tr>\n",
       "      <th>0</th>\n",
       "      <td>Figure 13.1-1 EnCana Ekwan Pipeline</td>\n",
       "      <td>268706</td>\n",
       "    </tr>\n",
       "    <tr>\n",
       "      <th>1</th>\n",
       "      <td>Figure 13.3-1 CEA Framework</td>\n",
       "      <td>268706</td>\n",
       "    </tr>\n",
       "  </tbody>\n",
       "</table>\n",
       "</div>"
      ],
      "text/plain": [
       "                                 Title  DataID\n",
       "0  Figure 13.1-1 EnCana Ekwan Pipeline  268706\n",
       "1          Figure 13.3-1 CEA Framework  268706"
      ]
     },
     "execution_count": 395,
     "metadata": {},
     "output_type": "execute_result"
    }
   ],
   "source": [
    "#load figure data\n",
    "fig_location = 'F:/Environmental Baseline Data/Version 4 - Final/Support files/final_figs.csv'\n",
    "fig_df = pd.read_csv(fig_location, usecols= ['Name', 'DataID'])\n",
    "fig_df.columns = ['Title', 'DataID']\n",
    "fig_df['DataID'] = fig_df['DataID'].astype(str)\n",
    "fig_df.head(2)"
   ]
  },
  {
   "cell_type": "code",
   "execution_count": 396,
   "metadata": {},
   "outputs": [],
   "source": [
    "#merge with regdocs metadata\n",
    "fig_df_meta = fig_df.merge(df_esa_with_gis_components_short_names, on = 'DataID', how = 'left')\n",
    "fig_df_meta['Content type'] = 'Figure'\n",
    "# fig_df_meta.head(2)\n",
    "# fig_df_meta.columns"
   ]
  },
  {
   "cell_type": "markdown",
   "metadata": {},
   "source": [
    "### Combine Figures and Tables"
   ]
  },
  {
   "cell_type": "code",
   "execution_count": 397,
   "metadata": {},
   "outputs": [
    {
     "data": {
      "text/plain": [
       "(30082, 37)"
      ]
     },
     "execution_count": 397,
     "metadata": {},
     "output_type": "execute_result"
    },
    {
     "data": {
      "text/html": [
       "<div>\n",
       "<style scoped>\n",
       "    .dataframe tbody tr th:only-of-type {\n",
       "        vertical-align: middle;\n",
       "    }\n",
       "\n",
       "    .dataframe tbody tr th {\n",
       "        vertical-align: top;\n",
       "    }\n",
       "\n",
       "    .dataframe thead th {\n",
       "        text-align: right;\n",
       "    }\n",
       "</style>\n",
       "<table border=\"1\" class=\"dataframe\">\n",
       "  <thead>\n",
       "    <tr style=\"text-align: right;\">\n",
       "      <th></th>\n",
       "      <th>Title</th>\n",
       "      <th>DataID</th>\n",
       "      <th>file_name</th>\n",
       "      <th>application_name</th>\n",
       "      <th>esa_folder_link</th>\n",
       "      <th>DocumentID</th>\n",
       "      <th>esa_download_link</th>\n",
       "      <th>DataID_pdf</th>\n",
       "      <th>Section</th>\n",
       "      <th>Application filing date</th>\n",
       "      <th>...</th>\n",
       "      <th>Location</th>\n",
       "      <th>Commodity</th>\n",
       "      <th>Download folder name</th>\n",
       "      <th>Content type</th>\n",
       "      <th>csv_name</th>\n",
       "      <th>Page Number</th>\n",
       "      <th>Table Number</th>\n",
       "      <th>csv_path</th>\n",
       "      <th>shape</th>\n",
       "      <th>csv_download_link</th>\n",
       "    </tr>\n",
       "  </thead>\n",
       "  <tbody>\n",
       "    <tr>\n",
       "      <th>30080</th>\n",
       "      <td>Table 2 Occurrences Of Species With Special Co...</td>\n",
       "      <td>895339</td>\n",
       "      <td>B2-32 - Volume IIA - ESA - Appendix 9 - Wildli...</td>\n",
       "      <td>2012-12-14 - Application for the Edmonton to H...</td>\n",
       "      <td>https://apps.cer-rec.gc.ca/REGDOCS/Item/LoadRe...</td>\n",
       "      <td>A3E3A7</td>\n",
       "      <td>https://apps.cer-rec.gc.ca/REGDOCS/File/Downlo...</td>\n",
       "      <td>895339.pdf</td>\n",
       "      <td>Large Projects (over 40 km)</td>\n",
       "      <td>2012-12-14</td>\n",
       "      <td>...</td>\n",
       "      <td>Alberta, All</td>\n",
       "      <td>Oil</td>\n",
       "      <td>dmntnhrdst</td>\n",
       "      <td>Table</td>\n",
       "      <td>895339_14_1.csv</td>\n",
       "      <td>14</td>\n",
       "      <td>1</td>\n",
       "      <td>F:/Environmental Baseline Data/Version 4 - Fin...</td>\n",
       "      <td>(7, 5)</td>\n",
       "      <td>http://dweb5/esa-ees/dmntnhrdst/895339_14_1.csv</td>\n",
       "    </tr>\n",
       "    <tr>\n",
       "      <th>30081</th>\n",
       "      <td>Table 3 Summary Of Potential Species With Spec...</td>\n",
       "      <td>895339</td>\n",
       "      <td>B2-32 - Volume IIA - ESA - Appendix 9 - Wildli...</td>\n",
       "      <td>2012-12-14 - Application for the Edmonton to H...</td>\n",
       "      <td>https://apps.cer-rec.gc.ca/REGDOCS/Item/LoadRe...</td>\n",
       "      <td>A3E3A7</td>\n",
       "      <td>https://apps.cer-rec.gc.ca/REGDOCS/File/Downlo...</td>\n",
       "      <td>895339.pdf</td>\n",
       "      <td>Large Projects (over 40 km)</td>\n",
       "      <td>2012-12-14</td>\n",
       "      <td>...</td>\n",
       "      <td>Alberta, All</td>\n",
       "      <td>Oil</td>\n",
       "      <td>dmntnhrdst</td>\n",
       "      <td>Table</td>\n",
       "      <td>895339_23_1.csv</td>\n",
       "      <td>23</td>\n",
       "      <td>1</td>\n",
       "      <td>F:/Environmental Baseline Data/Version 4 - Fin...</td>\n",
       "      <td>(14, 2)</td>\n",
       "      <td>http://dweb5/esa-ees/dmntnhrdst/895339_23_1.csv</td>\n",
       "    </tr>\n",
       "  </tbody>\n",
       "</table>\n",
       "<p>2 rows × 37 columns</p>\n",
       "</div>"
      ],
      "text/plain": [
       "                                                   Title  DataID  \\\n",
       "30080  Table 2 Occurrences Of Species With Special Co...  895339   \n",
       "30081  Table 3 Summary Of Potential Species With Spec...  895339   \n",
       "\n",
       "                                               file_name  \\\n",
       "30080  B2-32 - Volume IIA - ESA - Appendix 9 - Wildli...   \n",
       "30081  B2-32 - Volume IIA - ESA - Appendix 9 - Wildli...   \n",
       "\n",
       "                                        application_name  \\\n",
       "30080  2012-12-14 - Application for the Edmonton to H...   \n",
       "30081  2012-12-14 - Application for the Edmonton to H...   \n",
       "\n",
       "                                         esa_folder_link DocumentID  \\\n",
       "30080  https://apps.cer-rec.gc.ca/REGDOCS/Item/LoadRe...     A3E3A7   \n",
       "30081  https://apps.cer-rec.gc.ca/REGDOCS/Item/LoadRe...     A3E3A7   \n",
       "\n",
       "                                       esa_download_link  DataID_pdf  \\\n",
       "30080  https://apps.cer-rec.gc.ca/REGDOCS/File/Downlo...  895339.pdf   \n",
       "30081  https://apps.cer-rec.gc.ca/REGDOCS/File/Downlo...  895339.pdf   \n",
       "\n",
       "                           Section Application filing date  ...      Location  \\\n",
       "30080  Large Projects (over 40 km)              2012-12-14  ...  Alberta, All   \n",
       "30081  Large Projects (over 40 km)              2012-12-14  ...  Alberta, All   \n",
       "\n",
       "      Commodity  Download folder name Content type         csv_name  \\\n",
       "30080       Oil            dmntnhrdst        Table  895339_14_1.csv   \n",
       "30081       Oil            dmntnhrdst        Table  895339_23_1.csv   \n",
       "\n",
       "      Page Number Table Number  \\\n",
       "30080          14            1   \n",
       "30081          23            1   \n",
       "\n",
       "                                                csv_path    shape  \\\n",
       "30080  F:/Environmental Baseline Data/Version 4 - Fin...   (7, 5)   \n",
       "30081  F:/Environmental Baseline Data/Version 4 - Fin...  (14, 2)   \n",
       "\n",
       "                                     csv_download_link  \n",
       "30080  http://dweb5/esa-ees/dmntnhrdst/895339_14_1.csv  \n",
       "30081  http://dweb5/esa-ees/dmntnhrdst/895339_23_1.csv  \n",
       "\n",
       "[2 rows x 37 columns]"
      ]
     },
     "execution_count": 397,
     "metadata": {},
     "output_type": "execute_result"
    }
   ],
   "source": [
    "df_tables_figures = pd.concat([fig_df_meta, tabels_csv_df_cer_meta_no_cids], sort=False).reset_index(drop = True)\n",
    "df_tables_figures.shape\n",
    "df_tables_figures.tail(2)"
   ]
  },
  {
   "cell_type": "code",
   "execution_count": 398,
   "metadata": {},
   "outputs": [],
   "source": [
    "df_tables_figures.to_csv('F:/Environmental Baseline Data/Version 4 - Final/Indices/Index 3 V4 CSV2 LITE.csv', encoding = 'utf_8_sig')"
   ]
  },
  {
   "cell_type": "code",
   "execution_count": 399,
   "metadata": {},
   "outputs": [
    {
     "data": {
      "text/plain": [
       "Index(['Title', 'DataID', 'file_name', 'application_name', 'esa_folder_link',\n",
       "       'DocumentID', 'esa_download_link', 'DataID_pdf', 'Section',\n",
       "       'Application filing date', 'link to folder with ESA', 'Hearing order',\n",
       "       'Folder link', 'Company Name', 'Consultant Name', 'Status in GIS',\n",
       "       'Column1', 'RTS English Title = Project name',\n",
       "       'Regulatory Instruments Issued', 'Pipeline Named in GIS',\n",
       "       'Application title short', 'Link to Application', 'Link to Decision',\n",
       "       'Component', 'Component PDF Name', 'Component Index', 'short_name',\n",
       "       'Location', 'Commodity', 'Download folder name', 'Content type',\n",
       "       'csv_name', 'Page Number', 'Table Number', 'csv_path', 'shape',\n",
       "       'csv_download_link'],\n",
       "      dtype='object')"
      ]
     },
     "execution_count": 399,
     "metadata": {},
     "output_type": "execute_result"
    }
   ],
   "source": [
    "df_tables_figures.columns"
   ]
  },
  {
   "cell_type": "markdown",
   "metadata": {},
   "source": [
    "## Create csv for ESA Data Bank dashboard FINAL (delete and rename some columns)"
   ]
  },
  {
   "cell_type": "code",
   "execution_count": 402,
   "metadata": {
    "scrolled": false
   },
   "outputs": [],
   "source": [
    "# \n",
    "esa_final_df = df_tables_figures[['Title', 'Content type', 'Application title short', 'short_name', 'Application filing date', 'Company Name',\n",
    "                                 'Commodity', 'file_name', 'Component PDF Name', 'esa_folder_link', 'DocumentID', 'DataID', \n",
    "                                  'esa_download_link','Section', 'Location', 'Hearing order', 'Consultant Name', 'Column1' , \n",
    "                                  'Regulatory Instruments Issued', 'Link to Application', 'Link to Decision',\n",
    "                                 'Component PDF Name', 'csv_download_link', 'Page Number']]\n",
    "\n",
    "esa_final_df.rename(columns = {'Application title short' : 'Application Name', 'short_name' : 'Application Short Name', \\\n",
    "                              'file_name' : 'File Name', 'esa_folder_link' : 'ESA Folder URL', \\\n",
    "                               'esa_download_link' : 'PDF Download URL', 'Section' : 'Application Type (NEB Act)', \\\n",
    "                                'Column1' : 'Pipeline Status', 'Regulatory Instruments Issued' : 'Regulatory Instrument(s)', \\\n",
    "                              'Link to Application' : 'Applicatin URL', 'Link to Decision' : 'Decision URL', \\\n",
    "                              'Component PDF Name' : 'PDF Section(s)', 'csv_download_link' : 'Component download URL', \\\n",
    "                              'Page Number' : 'PDF Page#'}, inplace = True)\n",
    "\n",
    "esa_final_df.to_csv('F:/Environmental Baseline Data/Version 4 - Final/Tableau files/Prototype/ESA Data Bank Final.csv', encoding = 'utf_8_sig')\n"
   ]
  }
 ],
 "metadata": {
  "kernelspec": {
   "display_name": "Python 3",
   "language": "python",
   "name": "python3"
  },
  "language_info": {
   "codemirror_mode": {
    "name": "ipython",
    "version": 3
   },
   "file_extension": ".py",
   "mimetype": "text/x-python",
   "name": "python",
   "nbconvert_exporter": "python",
   "pygments_lexer": "ipython3",
   "version": "3.7.6"
  }
 },
 "nbformat": 4,
 "nbformat_minor": 2
}
